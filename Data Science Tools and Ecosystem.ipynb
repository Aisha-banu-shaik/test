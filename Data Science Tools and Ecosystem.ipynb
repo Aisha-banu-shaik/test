{
  "metadata": {
    "language_info": {
      "codemirror_mode": {
        "name": "python",
        "version": 3
      },
      "file_extension": ".py",
      "mimetype": "text/x-python",
      "name": "python",
      "nbconvert_exporter": "python",
      "pygments_lexer": "ipython3",
      "version": "3.8"
    },
    "kernelspec": {
      "name": "python",
      "display_name": "Pyolite",
      "language": "python"
    }
  },
  "nbformat_minor": 4,
  "nbformat": 4,
  "cells": [
    {
      "cell_type": "markdown",
      "source": "# Data Science Tools and Ecosystem",
      "metadata": {}
    },
    {
      "cell_type": "markdown",
      "source": "In this notebook, Data Science Tools and Ecosystem are summarized.",
      "metadata": {}
    },
    {
      "cell_type": "markdown",
      "source": "Some of the popular languages that Data Scientists use are:",
      "metadata": {}
    },
    {
      "cell_type": "code",
      "source": "1 R\n2 SQl\n3 Julia\n4 Python\n5 Scalar",
      "metadata": {},
      "execution_count": null,
      "outputs": []
    },
    {
      "cell_type": "markdown",
      "source": "Some of the commonly used libraries used by Data Scientists include:",
      "metadata": {}
    },
    {
      "cell_type": "code",
      "source": "1 TensorFlow\n2 NumPy\n3 SciPy\n4 Pandas\n5 Matplotlib\n6 Keras\n7 SciKit-learn\n8 PyTorch",
      "metadata": {},
      "execution_count": null,
      "outputs": []
    },
    {
      "cell_type": "markdown",
      "source": "# Data Science Tools",
      "metadata": {}
    },
    {
      "cell_type": "code",
      "source": "1 KNIME\n2 Matlab\n3 Tableau\n4 ApacheSpark\n5 TensorFlow\n6 SAS\n7 Matplotlib\n8 Keras",
      "metadata": {},
      "execution_count": null,
      "outputs": []
    },
    {
      "cell_type": "markdown",
      "source": "### Below are a few examples of evaluating arithmetic expressions in Python",
      "metadata": {}
    },
    {
      "cell_type": "code",
      "source": "# This a simple arithmetic expression to mutiply then add integers",
      "metadata": {},
      "execution_count": null,
      "outputs": []
    },
    {
      "cell_type": "code",
      "source": "20*4+500",
      "metadata": {},
      "execution_count": null,
      "outputs": [
        {
          "execution_count": 28,
          "output_type": "execute_result",
          "data": {
            "text/plain": "580"
          },
          "metadata": {}
        }
      ]
    },
    {
      "cell_type": "markdown",
      "source": "# convert minutes to hours",
      "metadata": {}
    },
    {
      "cell_type": "code",
      "source": "total_min=200\nhours = total_min / 60",
      "metadata": {
        "trusted": true
      },
      "execution_count": 32,
      "outputs": []
    },
    {
      "cell_type": "code",
      "source": "time = \"{}\".format(hours)",
      "metadata": {
        "trusted": true
      },
      "execution_count": 33,
      "outputs": []
    },
    {
      "cell_type": "code",
      "source": "time",
      "metadata": {
        "trusted": true
      },
      "execution_count": 34,
      "outputs": [
        {
          "execution_count": 34,
          "output_type": "execute_result",
          "data": {
            "text/plain": "'3.3333333333333335'"
          },
          "metadata": {}
        }
      ]
    },
    {
      "cell_type": "markdown",
      "source": "# Objectives",
      "metadata": {}
    },
    {
      "cell_type": "markdown",
      "source": "- Objectives\n   -R\n   -SQl\n   -Julia\n   -Python\n   -Scalar",
      "metadata": {}
    },
    {
      "cell_type": "markdown",
      "source": "# Author",
      "metadata": {}
    },
    {
      "cell_type": "code",
      "source": "Ayesha Shaik",
      "metadata": {},
      "execution_count": null,
      "outputs": []
    }
  ]
}