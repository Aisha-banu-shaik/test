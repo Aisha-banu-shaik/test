{
  "metadata": {
    "language_info": {
      "codemirror_mode": {
        "name": "python",
        "version": 3
      },
      "file_extension": ".py",
      "mimetype": "text/x-python",
      "name": "python",
      "nbconvert_exporter": "python",
      "pygments_lexer": "ipython3",
      "version": "3.8"
    },
    "kernelspec": {
      "name": "python",
      "display_name": "Pyolite",
      "language": "python"
    }
  },
  "nbformat_minor": 4,
  "nbformat": 4,
  "cells": [
    {
      "cell_type": "markdown",
      "source": "My First Notebook ",
      "metadata": {}
    },
    {
      "cell_type": "markdown",
      "source": "Introduction",
      "metadata": {}
    },
    {
      "cell_type": "markdown",
      "source": "Jupyter Notebook allows a Data Scientist to record their data experiments and results that others can reuse.",
      "metadata": {}
    },
    {
      "cell_type": "markdown",
      "source": "Data science languages",
      "metadata": {}
    },
    {
      "cell_type": "markdown",
      "source": "R\nSQL\nJava\nJulia\nScala\nJavaScript\nPython",
      "metadata": {}
    },
    {
      "cell_type": "markdown",
      "source": "Data science libraries",
      "metadata": {}
    },
    {
      "cell_type": "markdown",
      "source": "TensorFlow\nNumPy\nSciPy\nPandas\nMatplotlib\nKeras\nSciKit-learn\nPyTorch",
      "metadata": {}
    },
    {
      "cell_type": "markdown",
      "source": " Table of Data Science tools",
      "metadata": {}
    },
    {
      "cell_type": "code",
      "source": "KNIME\nMatlab\nTableau\nApacheSpark\nTensorFlow\nSAS\nMatplotlib\nKeras\nSciPy\nNumpy\nJulia",
      "metadata": {},
      "execution_count": null,
      "outputs": []
    },
    {
      "cell_type": "markdown",
      "source": "Arithmetic expression examples",
      "metadata": {}
    },
    {
      "cell_type": "markdown",
      "source": "multiplying and adding of numbers",
      "metadata": {}
    },
    {
      "cell_type": "code",
      "source": "20+4*5",
      "metadata": {
        "trusted": true
      },
      "execution_count": 1,
      "outputs": [
        {
          "execution_count": 1,
          "output_type": "execute_result",
          "data": {
            "text/plain": "40"
          },
          "metadata": {}
        }
      ]
    },
    {
      "cell_type": "markdown",
      "source": "Converting minutes to hours",
      "metadata": {}
    },
    {
      "cell_type": "code",
      "source": "total_min=180\nhours = total_min // 60",
      "metadata": {
        "trusted": true
      },
      "execution_count": 17,
      "outputs": []
    },
    {
      "cell_type": "code",
      "source": "time = \"{}\".format(hours)",
      "metadata": {
        "trusted": true
      },
      "execution_count": 18,
      "outputs": []
    },
    {
      "cell_type": "code",
      "source": "time",
      "metadata": {
        "trusted": true
      },
      "execution_count": 19,
      "outputs": [
        {
          "execution_count": 19,
          "output_type": "execute_result",
          "data": {
            "text/plain": "'3'"
          },
          "metadata": {}
        }
      ]
    },
    {
      "cell_type": "markdown",
      "source": " Author’s name : Ayesha Shaik",
      "metadata": {}
    },
    {
      "cell_type": "code",
      "source": "",
      "metadata": {},
      "execution_count": null,
      "outputs": []
    },
    {
      "cell_type": "code",
      "source": "",
      "metadata": {},
      "execution_count": null,
      "outputs": []
    },
    {
      "cell_type": "code",
      "source": "",
      "metadata": {},
      "execution_count": null,
      "outputs": []
    }
  ]
}